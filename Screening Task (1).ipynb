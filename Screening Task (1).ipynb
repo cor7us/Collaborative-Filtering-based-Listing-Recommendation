{
 "cells": [
  {
   "cell_type": "markdown",
   "id": "95303cc4-fb0e-409c-8b95-a49296d5aa53",
   "metadata": {},
   "source": [
    "# Collaborative Filtering and Attribute Modelling"
   ]
  },
  {
   "cell_type": "markdown",
   "id": "1493eab0-ba0e-447d-ae4c-379f8d8defe2",
   "metadata": {},
   "source": [
    "## 1. Importing the Packages"
   ]
  },
  {
   "cell_type": "code",
   "execution_count": 5,
   "id": "ef7dd467-1447-4dc1-ae9e-fdd6dd364a84",
   "metadata": {},
   "outputs": [],
   "source": [
    "import pandas as pd\n",
    "from sklearn.metrics.pairwise import cosine_similarity\n",
    "from sklearn.decomposition import TruncatedSVD\n",
    "import numpy as np\n",
    "import shap\n",
    "import matplotlib.pyplot as plt\n",
    "import networkx as nx\n",
    "from collections import defaultdict"
   ]
  },
  {
   "cell_type": "markdown",
   "id": "ca45d932-5946-4955-8f8f-00f5ca03d9c5",
   "metadata": {},
   "source": [
    "## 2. Loading the Dataset"
   ]
  },
  {
   "cell_type": "code",
   "execution_count": 7,
   "id": "ed043010-f3bd-4da0-acaf-fb61f4ea8967",
   "metadata": {},
   "outputs": [],
   "source": [
    "try:\n",
    "    listings_df = pd.read_csv('listings_metadata (1).csv')\n",
    "    user_data_df = pd.read_csv('user_41399220_analysis (1).csv')\n",
    "except Exception as e:\n",
    "    print(f\"Error loading files: {e}\")\n",
    "    exit()"
   ]
  },
  {
   "cell_type": "code",
   "execution_count": 8,
   "id": "fe1ae36e-08eb-4cb9-bae6-29d73e330f21",
   "metadata": {},
   "outputs": [],
   "source": [
    "# Ensure 'listing_id' is of the same type in both datasets\n",
    "listings_df['listing_id'] = listings_df['listing_id'].astype(str)\n",
    "user_data_df['listing_id'] = user_data_df['listing_id'].astype(str)"
   ]
  },
  {
   "cell_type": "code",
   "execution_count": 9,
   "id": "10915a71-a0ba-48a0-964b-0d75fe423201",
   "metadata": {},
   "outputs": [],
   "source": [
    "# merging the datasets\n",
    "try:\n",
    "    merged_df = pd.merge(listings_df, user_data_df, on='listing_id', how='inner')\n",
    "except Exception as e:\n",
    "    print(f\"Error merging datasets: {e}\")\n",
    "    exit()"
   ]
  },
  {
   "cell_type": "markdown",
   "id": "594c9c29-42ab-4510-ba42-e6e84889b8a2",
   "metadata": {},
   "source": [
    "## 3. Data Preprocessing"
   ]
  },
  {
   "cell_type": "code",
   "execution_count": 11,
   "id": "8f0169ea-a53f-4a1c-b1ff-8e8cf58add96",
   "metadata": {},
   "outputs": [],
   "source": [
    "# Convert necessary columns to numeric\n",
    "numeric_cols = ['price', 'listing_age']\n",
    "for col in numeric_cols:\n",
    "    merged_df[col] = pd.to_numeric(merged_df[col], errors='coerce')\n",
    "\n",
    "# Select features for Collaborative Filtering (excluding missing ones)\n",
    "cf_df = merged_df.dropna(subset=numeric_cols)  # Remove rows with missing values"
   ]
  },
  {
   "cell_type": "markdown",
   "id": "6c75dc85-9a9c-4524-b740-a677048882fa",
   "metadata": {},
   "source": [
    "## 4. Collaborative Filtering"
   ]
  },
  {
   "cell_type": "code",
   "execution_count": 32,
   "id": "6e3b9017-66c3-48f4-b6bd-85208cbeb00f",
   "metadata": {},
   "outputs": [],
   "source": [
    "# Collaborative Filtering using SVD \n",
    "# SVD is Singular Value Decomposition\n",
    "svd = TruncatedSVD(n_components=2)\n",
    "listing_factors = svd.fit_transform(cf_df[numeric_cols])\n",
    "listing_similarity = cosine_similarity(listing_factors)"
   ]
  },
  {
   "cell_type": "code",
   "execution_count": 14,
   "id": "39742f8c-71e7-465a-9994-7f958769fa8a",
   "metadata": {},
   "outputs": [
    {
     "name": "stdout",
     "output_type": "stream",
     "text": [
      "Top 5 similar listings: Index(['35873806', '30445193', '30448133', '30444903', '11557016'], dtype='object', name='listing_id')\n"
     ]
    }
   ],
   "source": [
    "# Create similarity matrix DataFrame\n",
    "similarity_df = pd.DataFrame(listing_similarity, index=cf_df['listing_id'], columns=cf_df['listing_id'])\n",
    "# Display top 5 most similar listings for a sample listing\n",
    "sample_listing = similarity_df.iloc[0].sort_values(ascending=False).index[1:6]\n",
    "print(\"Top 5 similar listings:\", sample_listing)"
   ]
  },
  {
   "cell_type": "code",
   "execution_count": 15,
   "id": "d041b8c6-4e0c-418b-81be-2aef6fd6be56",
   "metadata": {},
   "outputs": [],
   "source": [
    "# Markov Chain Attribution Model\n",
    "def markov_chain_attribution(df):\n",
    "    transition_counts = defaultdict(lambda: defaultdict(int))\n",
    "    for _, row in df.iterrows():\n",
    "        touchpoints = row.get('touchpoints', '').split(',')\n",
    "        for i in range(len(touchpoints) - 1):\n",
    "            transition_counts[touchpoints[i]][touchpoints[i+1]] += 1\n",
    "    \n",
    "    G = nx.DiGraph()\n",
    "    for start, targets in transition_counts.items():\n",
    "        total = sum(targets.values())\n",
    "        for end, count in targets.items():\n",
    "            G.add_edge(start, end, weight=count/total)\n",
    "    \n",
    "    return G"
   ]
  },
  {
   "cell_type": "code",
   "execution_count": 16,
   "id": "6791ffe2-cf00-48f4-a87e-6e5daeeda015",
   "metadata": {},
   "outputs": [],
   "source": [
    "# Run Markov Chain Attribution if touchpoints exist\n",
    "if 'touchpoints' in merged_df.columns:\n",
    "    attribution_graph = markov_chain_attribution(merged_df)\n",
    "    print(\"Markov Chain Attribution Model Built\")"
   ]
  },
  {
   "cell_type": "markdown",
   "id": "f8fe31eb-2949-47c7-a665-5dc6083c6dd1",
   "metadata": {},
   "source": [
    "## 5. Attributive Modelling\n"
   ]
  },
  {
   "cell_type": "code",
   "execution_count": 18,
   "id": "0adeca5b-af46-4b96-a82b-f2ac398336a2",
   "metadata": {},
   "outputs": [
    {
     "name": "stdout",
     "output_type": "stream",
     "text": [
      "  listing_id  impact_score\n",
      "0   35873806        1061.6\n",
      "1   35873806        1061.6\n",
      "2   39962641        1121.6\n",
      "3   17027835        1196.8\n",
      "4   15581613        1428.4\n"
     ]
    }
   ],
   "source": [
    "def attribution_model(df):\n",
    "    weights = {'price': 0.4, 'listing_age': 0.6}  # Adjust weights dynamically if needed\n",
    "    df['impact_score'] = sum(df[col] * weight for col, weight in weights.items() if col in df.columns)\n",
    "    return df[['listing_id', 'impact_score']]\n",
    "\n",
    "# Apply attribution modeling\n",
    "attribution_results = attribution_model(merged_df)\n",
    "print(attribution_results.head())"
   ]
  },
  {
   "cell_type": "markdown",
   "id": "9c4d31bb-48ac-41a6-83d0-0a04a59abf81",
   "metadata": {},
   "source": [
    "## 6. SHAP Modelling"
   ]
  },
  {
   "cell_type": "code",
   "execution_count": 20,
   "id": "88c51f1c-5ac5-4e5d-bd49-5349fab866ef",
   "metadata": {},
   "outputs": [
    {
     "name": "stderr",
     "output_type": "stream",
     "text": [
      "/home/547aaa54-d02d-44b7-a264-25f118ccbbe8/.local/lib/python3.11/site-packages/shap/plots/_beeswarm.py:1145: UserWarning: The figure layout has changed to tight\n",
      "  pl.tight_layout()\n",
      "/home/547aaa54-d02d-44b7-a264-25f118ccbbe8/.local/lib/python3.11/site-packages/shap/plots/_beeswarm.py:753: UserWarning: The figure layout has changed to tight\n",
      "  pl.tight_layout(pad=0, w_pad=0, h_pad=0.0)\n"
     ]
    },
    {
     "data": {
      "text/plain": [
       "<Figure size 640x480 with 0 Axes>"
      ]
     },
     "metadata": {},
     "output_type": "display_data"
    },
    {
     "data": {
      "image/png": "[encoded data removed]",
      "text/plain": [
       "<Figure size 1150x660 with 1 Axes>"
      ]
     },
     "metadata": {},
     "output_type": "display_data"
    }
   ],
   "source": [
    "def shap_analysis(df):\n",
    "    feature_cols = ['price', 'listing_age']\n",
    "    if not all(col in df.columns for col in feature_cols):\n",
    "        print(\"Missing required columns for SHAP analysis.\")\n",
    "        return\n",
    "    \n",
    "    X = df[feature_cols]\n",
    "    explainer = shap.Explainer(lambda x: x, X)  # Dummy model for illustration\n",
    "    shap_values = explainer(X)\n",
    "    shap.summary_plot(shap_values, X)\n",
    "\n",
    "shap_analysis(merged_df)"
   ]
  },
  {
   "cell_type": "code",
   "execution_count": null,
   "id": "5fc6f5a6-bc10-473d-a5c4-de4d7cc93b8d",
   "metadata": {},
   "outputs": [],
   "source": []
  }
 ],
 "metadata": {
  "kernelspec": {
   "display_name": "anaconda-panel-2023.05-py310",
   "language": "python",
   "name": "conda-env-anaconda-panel-2023.05-py310-py"
  },
  "language_info": {
   "codemirror_mode": {
    "name": "ipython",
    "version": 3
   },
   "file_extension": ".py",
   "mimetype": "text/x-python",
   "name": "python",
   "nbconvert_exporter": "python",
   "pygments_lexer": "ipython3",
   "version": "3.11.5"
  }
 },
 "nbformat": 4,
 "nbformat_minor": 5
}
